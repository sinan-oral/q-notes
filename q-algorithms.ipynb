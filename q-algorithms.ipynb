{
 "cells": [
  {
   "cell_type": "markdown",
   "id": "dfa62738",
   "metadata": {},
   "source": [
    "# Quantum Algorithms "
   ]
  },
  {
   "cell_type": "markdown",
   "id": "552c51d9",
   "metadata": {},
   "source": [
    "## Table of Contents\n",
    "\n",
    "### [Oracular](#Oracular)\n",
    "* [Deutsch-Jozsa Algorithm](#Deutsch-Jozsa-Algorithm)\n",
    "* [Bernstein-Vazirani Algorithm](#Bernstein-Vazirani-Algorithm)\n",
    "* [Simon's Algorithm](#Simon's-Algorithm)\n",
    "\n",
    "<!-- -->\n",
    "\n",
    "### [Protocols](#Protocols)"
   ]
  },
  {
   "cell_type": "code",
   "execution_count": 14,
   "id": "b5209efe",
   "metadata": {},
   "outputs": [],
   "source": [
    "import numpy as np\n",
    "\n",
    "from qiskit import IBMQ, Aer\n",
    "from qiskit.providers.ibmq import least_busy\n",
    "from qiskit import QuantumCircuit, assemble, transpile\n",
    "from qiskit.visualization import plot_histogram"
   ]
  },
  {
   "cell_type": "markdown",
   "id": "f9564357",
   "metadata": {},
   "source": [
    "# Oracular"
   ]
  },
  {
   "cell_type": "markdown",
   "id": "84291b55",
   "metadata": {},
   "source": [
    "## Deutsch-Jozsa Algorithm"
   ]
  },
  {
   "cell_type": "markdown",
   "id": "3b7a268c",
   "metadata": {},
   "source": [
    "**Problem:** Given a oracle $U_f$ which implements some function $f:\\{0,1\\}^n \\to \\{0,1\\}$ as $U_f: \\left|x\\right>\\left|y\\right> \\mapsto \\left|x\\right>\\left|y\\oplus f(x)\\right>$ with $f$ promised to be either balanced or constant.  Determine whether $f$ is balanced or constant.\n",
    "\n",
    "<!-- -->\n",
    "\n",
    "**Hadamard gate:** for arbitrary n-qubit\n",
    "$$\n",
    "\\left| x \\right> \\xrightarrow{H^{\\otimes n}} \\frac{1}{\\sqrt{2^n}} \\sum_{y\\in \\{0,1\\}^{n}}(-1)^{x\\cdot y} \\left|y\\right>\n",
    "$$\n",
    "\n",
    "<!-- -->\n",
    "\n",
    "**Algorithm:**\n",
    "\n",
    "<!-- -->\n",
    "\n",
    "1. Initialize $\\left|0\\right>^{\\otimes n} \\otimes \\left|1\\right>$\n",
    "2. Apply Hadamard gate to each qubit\n",
    "3. Query the oracle $U_f$\n",
    "4. Apply Hadamard gates to control qubits\n",
    "5. Measure\n",
    "\n",
    "<!-- -->\n",
    "$$\n",
    "\\left|0\\right>^{\\otimes n}   \\xrightarrow{H^{\\otimes n}} \\frac{1}{\\sqrt{2^{n}}}\\sum_{x \\in \\{0,1\\}^{n}}\\left|x\\right> \\xrightarrow{U_f} \\frac{1}{\\sqrt{2^{n}}}\\sum_{x \\in \\{0,1\\}^{n}} (-1)^{f(x)}\\left|x\\right>   \\xrightarrow{H^{\\otimes n}} \\frac{1}{2^n}\\sum_{x,y\\in \\{0,1\\}^{n}} (-1)^{f(x)+x\\cdot y}\\left|y\\right>\n",
    "$$\n",
    "\n",
    "<!-- -->\n",
    "\n",
    "**Note:** The probability of measuring $\\left|0^{\\otimes n}\\right> = \\left|\\frac{1}{2^n}\\sum_{x \\in \\{0,1\\}^n} (-1)^{f(x)} \\right|^2$ which is **1** if f is **constant** and **0** if f is **balanced**.\n"
   ]
  },
  {
   "cell_type": "markdown",
   "id": "4266658c",
   "metadata": {},
   "source": [
    "### Deutsch-Jozsa Algorithm Qiskit Implementation "
   ]
  },
  {
   "cell_type": "code",
   "execution_count": 15,
   "id": "86afeaf6",
   "metadata": {},
   "outputs": [],
   "source": [
    "def dj_oracle(case, n):\n",
    "    oracle = QuantumCircuit(n+1)\n",
    "    \n",
    "    # Balanced Oracle\n",
    "    if case == \"balanced\":\n",
    "        \n",
    "        # Produce the binary string that dictates the form of the balanced oracle \n",
    "        b = np.random.randint(1,2**n)\n",
    "        b_str = format(b, '0'+str(n)+'b')\n",
    "        \n",
    "        #Wrap the initial balanced oracle with X-gates according to b_str\n",
    "        for q in range(len(b_str)):\n",
    "            if b_str[q] == '1':\n",
    "                oracle.x(q)\n",
    "                \n",
    "        #Initial balanced oracle \n",
    "        oracle.cx(range(n), n)\n",
    "        \n",
    "        for q in range(len(b_str)):\n",
    "            if b_str[q] == '1':\n",
    "                oracle.x(q)\n",
    "\n",
    "    # Constant Oracle \n",
    "    if case == \"constant\":\n",
    "        # The output of the function is either 0 or 1\n",
    "        output = np.random.randint(2)\n",
    "        #If 1 then the oracle is equivalent X-gate on the auxillary\n",
    "        if output == 1:\n",
    "            oracle.x(n)\n",
    "    \n",
    "    oracle_gate = oracle.to_gate()\n",
    "    oracle_gate.name = \"Oracle\" \n",
    "    return oracle_gate"
   ]
  },
  {
   "cell_type": "code",
   "execution_count": 16,
   "id": "df4309d7",
   "metadata": {},
   "outputs": [],
   "source": [
    "def dj_algorithm(oracle, n):\n",
    "    dj = QuantumCircuit(n+1, n)\n",
    "    \n",
    "    # Set up the auxillary qubit:\n",
    "    dj.x(n)\n",
    "    dj.h(n)\n",
    "    \n",
    "    # Set up the control qubits:\n",
    "    dj.h(range(n))\n",
    "        \n",
    "    # Append the oracle gate:\n",
    "    dj.append(oracle, range(n+1))\n",
    "    \n",
    "    # Pad the control qubits with the H-gates\n",
    "    dj.h(range(n))\n",
    "    \n",
    "    # Measure the control qubits\n",
    "    dj.measure(range(n), range(n))\n",
    "    \n",
    "    return dj"
   ]
  },
  {
   "cell_type": "code",
   "execution_count": 42,
   "id": "7a1f04a0",
   "metadata": {},
   "outputs": [
    {
     "data": {
      "text/html": [
       "<pre style=\"word-wrap: normal;white-space: pre;background: #fff0;line-height: 1.1;font-family: &quot;Courier New&quot;,Courier,monospace\">     ┌───┐     ┌─────────┐┌───┐┌─┐      \n",
       "q_0: ┤ H ├─────┤0        ├┤ H ├┤M├──────\n",
       "     ├───┤     │         │├───┤└╥┘┌─┐   \n",
       "q_1: ┤ H ├─────┤1        ├┤ H ├─╫─┤M├───\n",
       "     ├───┤     │  Oracle │├───┤ ║ └╥┘┌─┐\n",
       "q_2: ┤ H ├─────┤2        ├┤ H ├─╫──╫─┤M├\n",
       "     ├───┤┌───┐│         │└───┘ ║  ║ └╥┘\n",
       "q_3: ┤ X ├┤ H ├┤3        ├──────╫──╫──╫─\n",
       "     └───┘└───┘└─────────┘      ║  ║  ║ \n",
       "c: 3/═══════════════════════════╩══╩══╩═\n",
       "                                0  1  2 </pre>"
      ],
      "text/plain": [
       "     ┌───┐     ┌─────────┐┌───┐┌─┐      \n",
       "q_0: ┤ H ├─────┤0        ├┤ H ├┤M├──────\n",
       "     ├───┤     │         │├───┤└╥┘┌─┐   \n",
       "q_1: ┤ H ├─────┤1        ├┤ H ├─╫─┤M├───\n",
       "     ├───┤     │  Oracle │├───┤ ║ └╥┘┌─┐\n",
       "q_2: ┤ H ├─────┤2        ├┤ H ├─╫──╫─┤M├\n",
       "     ├───┤┌───┐│         │└───┘ ║  ║ └╥┘\n",
       "q_3: ┤ X ├┤ H ├┤3        ├──────╫──╫──╫─\n",
       "     └───┘└───┘└─────────┘      ║  ║  ║ \n",
       "c: 3/═══════════════════════════╩══╩══╩═\n",
       "                                0  1  2 "
      ]
     },
     "execution_count": 42,
     "metadata": {},
     "output_type": "execute_result"
    }
   ],
   "source": [
    "# Example for Deutsch-Josza algorithm\n",
    "n = 3\n",
    "oracle_gate = dj_oracle('balanced', n)\n",
    "#oracle_gate = dj_oracle('constant', n)\n",
    "dj_circuit = dj_algorithm(oracle_gate, n)\n",
    "dj_circuit.draw()\n"
   ]
  },
  {
   "cell_type": "code",
   "execution_count": 18,
   "id": "76366a43",
   "metadata": {},
   "outputs": [
    {
     "data": {
      "image/png": "[encoded data removed]",
      "text/plain": [
       "<Figure size 700x500 with 1 Axes>"
      ]
     },
     "execution_count": 18,
     "metadata": {},
     "output_type": "execute_result"
    }
   ],
   "source": [
    "aer_sim = Aer.get_backend('aer_simulator')\n",
    "transpiled_dj_circuit = transpile(dj_circuit, aer_sim)\n",
    "qobj = assemble(transpiled_dj_circuit)\n",
    "results = aer_sim.run(qobj).result()\n",
    "answer = results.get_counts()\n",
    "\n",
    "# as expect that the probability of measuring 000 is 0 for balanced f v.s.\n",
    "plot_histogram(answer)"
   ]
  },
  {
   "cell_type": "markdown",
   "id": "66f38ad7",
   "metadata": {},
   "source": [
    "## Bernstein-Vazirani Algorithm"
   ]
  },
  {
   "cell_type": "markdown",
   "id": "2357376e",
   "metadata": {},
   "source": [
    "**Problem:** $f: \\{0,1\\}^{n} \\to \\{0,1\\}$ with $f(x) = s\\cdot x \\,\\, \\text{(mod 2)}$ for some string $s$. Find the string $s$.\n",
    "\n",
    "<!-- -->\n",
    "\n",
    "**Phase Kickback:** when the auxillary qubit is $\\left| - \\right>$\n",
    "\n",
    "$$\n",
    "\\left|x\\right>\\xrightarrow{f_s} (-1)^{s\\cdot x} \\left|x\\right>\n",
    "$$\n",
    "<!-- -->\n",
    "\n",
    "**Algorithm:**\n",
    "1. Initialize  $\\left|0\\right>^{\\otimes n}\\otimes \\left|1\\right>$\n",
    "2. Apply Hadamard gates to each qubit\n",
    "3. Query the oracle\n",
    "4. Apply Hadamard gates to the control qubits\n",
    "5. Measure the control qubits\n",
    "\n",
    "<!-- -->\n",
    "\n",
    "$$\n",
    "\\left|0^{\\otimes n}\\right> \\xrightarrow{H^{\\otimes n}} \\frac{1}{\\sqrt{2^n}} \\sum_{x\\in \\{0,1\\}^{n}}\\left|x\\right> \\xrightarrow{f_s} \\frac{1}{\\sqrt{2^n}} \\sum_{x\\in \\{0,1\\}^{n}}(-1)^{s\\cdot x}\\left|x \\right> \\xrightarrow{H^{\\otimes n}} \\left|s \\right>\n",
    "$$"
   ]
  },
  {
   "cell_type": "markdown",
   "id": "0db48ac3",
   "metadata": {},
   "source": [
    "### Bernstein-Vazirani Algorithm: Qiskit Implementation"
   ]
  },
  {
   "cell_type": "code",
   "execution_count": 19,
   "id": "19d5f6a6",
   "metadata": {},
   "outputs": [],
   "source": [
    "def bv_algorithm(s):\n",
    "    n = len(s)\n",
    "    bv = QuantumCircuit(n+1,n)\n",
    "    \n",
    "    # Set up the auxillary qubit:\n",
    "    bv.x(n)\n",
    "    bv.h(n)\n",
    "    \n",
    "    # Set up the control qubits:\n",
    "    bv.h(range(n))\n",
    "        \n",
    "    bv.barrier()\n",
    "    \n",
    "    # Oracle (addition by 1 is equivalent to X gate in mod 2)\n",
    "    s = s[::-1]\n",
    "    for q in range(n):\n",
    "        if s[q] == '1':\n",
    "            bv.cx(q, n)\n",
    "       \n",
    "    bv.barrier()\n",
    "    \n",
    "    # Pad off the control qubits\n",
    "    bv.h(range(n))\n",
    "        \n",
    "    #Measurement\n",
    "    bv.measure(range(n), range(n))\n",
    "    \n",
    "    return bv"
   ]
  },
  {
   "cell_type": "code",
   "execution_count": 41,
   "id": "8c8d2597",
   "metadata": {},
   "outputs": [
    {
     "data": {
      "text/html": [
       "<pre style=\"word-wrap: normal;white-space: pre;background: #fff0;line-height: 1.1;font-family: &quot;Courier New&quot;,Courier,monospace\">     ┌───┐      ░            ░ ┌───┐┌─┐         \n",
       "q_0: ┤ H ├──────░───■────────░─┤ H ├┤M├─────────\n",
       "     ├───┤      ░   │        ░ ├───┤└╥┘┌─┐      \n",
       "q_1: ┤ H ├──────░───┼────────░─┤ H ├─╫─┤M├──────\n",
       "     ├───┤      ░   │        ░ ├───┤ ║ └╥┘┌─┐   \n",
       "q_2: ┤ H ├──────░───┼────■───░─┤ H ├─╫──╫─┤M├───\n",
       "     ├───┤      ░   │    │   ░ ├───┤ ║  ║ └╥┘┌─┐\n",
       "q_3: ┤ H ├──────░───┼────┼───░─┤ H ├─╫──╫──╫─┤M├\n",
       "     ├───┤┌───┐ ░ ┌─┴─┐┌─┴─┐ ░ └───┘ ║  ║  ║ └╥┘\n",
       "q_4: ┤ X ├┤ H ├─░─┤ X ├┤ X ├─░───────╫──╫──╫──╫─\n",
       "     └───┘└───┘ ░ └───┘└───┘ ░       ║  ║  ║  ║ \n",
       "c: 4/════════════════════════════════╩══╩══╩══╩═\n",
       "                                     0  1  2  3 </pre>"
      ],
      "text/plain": [
       "     ┌───┐      ░            ░ ┌───┐┌─┐         \n",
       "q_0: ┤ H ├──────░───■────────░─┤ H ├┤M├─────────\n",
       "     ├───┤      ░   │        ░ ├───┤└╥┘┌─┐      \n",
       "q_1: ┤ H ├──────░───┼────────░─┤ H ├─╫─┤M├──────\n",
       "     ├───┤      ░   │        ░ ├───┤ ║ └╥┘┌─┐   \n",
       "q_2: ┤ H ├──────░───┼────■───░─┤ H ├─╫──╫─┤M├───\n",
       "     ├───┤      ░   │    │   ░ ├───┤ ║  ║ └╥┘┌─┐\n",
       "q_3: ┤ H ├──────░───┼────┼───░─┤ H ├─╫──╫──╫─┤M├\n",
       "     ├───┤┌───┐ ░ ┌─┴─┐┌─┴─┐ ░ └───┘ ║  ║  ║ └╥┘\n",
       "q_4: ┤ X ├┤ H ├─░─┤ X ├┤ X ├─░───────╫──╫──╫──╫─\n",
       "     └───┘└───┘ ░ └───┘└───┘ ░       ║  ║  ║  ║ \n",
       "c: 4/════════════════════════════════╩══╩══╩══╩═\n",
       "                                     0  1  2  3 "
      ]
     },
     "execution_count": 41,
     "metadata": {},
     "output_type": "execute_result"
    }
   ],
   "source": [
    "s = \"0101\"\n",
    "bv_circuit = bv_algorithm(s)\n",
    "bv_circuit.draw()"
   ]
  },
  {
   "cell_type": "code",
   "execution_count": 21,
   "id": "cfd7200d",
   "metadata": {},
   "outputs": [
    {
     "data": {
      "image/png": "[encoded data removed]",
      "text/plain": [
       "<Figure size 700x500 with 1 Axes>"
      ]
     },
     "execution_count": 21,
     "metadata": {},
     "output_type": "execute_result"
    }
   ],
   "source": [
    "aer_sim = Aer.get_backend('aer_simulator')\n",
    "qobj = assemble(bv_circuit)\n",
    "results = aer_sim.run(qobj).result()\n",
    "answer = results.get_counts()\n",
    "\n",
    "plot_histogram(answer)"
   ]
  },
  {
   "cell_type": "markdown",
   "id": "47b59e80",
   "metadata": {},
   "source": [
    "## Simon's Algorithm"
   ]
  },
  {
   "cell_type": "markdown",
   "id": "0b29a0d1",
   "metadata": {},
   "source": [
    "**Problem:** Given a function, implemented by an oracle, $f: \\{0,1\\}^{n} \\to \\{0,1\\}^{n}$ with the promise that for some unknown $s\\in \\{0,1\\}^n$ for all $x,y \\in \\{0,1\\}^{n}$\n",
    "\n",
    "$$\n",
    "f(x) = f(y) \\iff x \\oplus y \\in \\{0^n,s\\}\n",
    "$$\n",
    "\n",
    "Find $s$ as few queries to $f(x)$ as possible. Note: $s =0$ implies $f$ is 1-1 and $s\\neq 0$ implies $f$ is 2-1. The query function $Q_f$ acts on two quantum register as $\\left|x\\right>\\left|a\\right> \\to \\left|x\\right> \\left|a\\oplus f(x)\\right>$\n",
    "\n",
    "<!-- -->\n",
    "\n",
    "**Algorithm:**\n",
    "\n",
    "<!-- -->\n",
    "\n",
    "1. Intialize $\\left|0\\right>^{\\otimes n} \\otimes \\left|0\\right>^{\\otimes n}$\n",
    "2. Apply Hadamard gates to the first register\n",
    "3. Query the oracle $Q_f$\n",
    "4. Measure the second register \n",
    "5. Apply Hadamard gates to the first register\n",
    "\n",
    "<!-- -->\n",
    "\n",
    "\\begin{align*}\n",
    "\\left|0\\right>^{\\otimes n} \\left|0\\right>^{\\otimes n}  &\\xrightarrow{H^{\\otimes n}}\\frac{1}{\\sqrt{2^n}} \\sum_{x\\in \\{0,1\\}^{n}}\\left|x\\right>\\left|0\\right>^{\\otimes n} \\xrightarrow{Q_f} \\frac{1}{\\sqrt{2^n}} \\sum_{x\\in \\{0,1\\}^{n}}\\left|x\\right>\\left|f(x)\\right>\\\\\n",
    "&\\xrightarrow{\\text{measure r2}}   \\frac{1}{\\sqrt{2}} (\\left|x\\right> + \\left|x\\oplus s\\right>)\\xrightarrow{H^{\\otimes n}} \\frac{1}{\\sqrt{2^{n+1}}} \\sum_{z\\in \\{0,1\\}^{n}}(-1)^{x\\cdot z} [1 + (-1)^{s\\cdot z}]\\left|z\\right>\n",
    "\\end{align*} \n",
    "\n",
    "<!-- -->\n",
    "\n",
    "6. Measure the first register which gives output $\\left|z\\right>$ if and only if\n",
    "<!-- -->\n",
    "\n",
    "$$\n",
    "s\\cdot z = 0 \\,\\, \\text{(mod 2)}\n",
    "$$\n",
    "\n",
    "<!-- -->\n",
    "Set of $n$ linearly independent system of equations\n",
    "\n",
    "\\begin{align*}\n",
    "s\\cdot z_1 &= 0 \\,\\, \\text{(mod 2)}\\\\\n",
    "s\\cdot z_2 &= 0 \\,\\, \\text{(mod 2)}\\\\\n",
    "&\\vdots\\\\\n",
    "s\\cdot z_n &= 0 \\,\\, \\text{(mod 2)}\n",
    "\\end{align*}"
   ]
  },
  {
   "cell_type": "markdown",
   "id": "242e15fc",
   "metadata": {},
   "source": [
    "### Simon's Algorithm Qiskit Implementation"
   ]
  },
  {
   "cell_type": "code",
   "execution_count": 90,
   "id": "62d80131",
   "metadata": {},
   "outputs": [],
   "source": [
    "def simon_oracle(s):\n",
    "    n = len(s)\n",
    "    oracle = QuantumCircuit(n*2)\n",
    "    \n",
    "    #Copy the content of the first register to the second register.\n",
    "    oracle.cx(range(n),range(n,2*n))\n",
    "    \n",
    "    \n",
    "    #Creating 1-to-1 or 2-to-1 mapping\n",
    "    s = s[::-1]\n",
    "    for i in range(n):\n",
    "        if s[i] == \"1\":\n",
    "            for j in range(n):\n",
    "                if s[j] == \"1\":\n",
    "                    oracle.cx(i,n+j)\n",
    "            break\n",
    "        \n",
    "    # Permute the second register\n",
    "    #... later\n",
    "        \n",
    "    oracle_gate = oracle.to_gate()\n",
    "    oracle_gate.name = \"Simon Oracle\" \n",
    "    return oracle_gate"
   ]
  },
  {
   "cell_type": "code",
   "execution_count": 91,
   "id": "2ba41c1b",
   "metadata": {},
   "outputs": [],
   "source": [
    "def simon_circuit(s):\n",
    "    n = len(s)\n",
    "    simon = QuantumCircuit(n*2, n)\n",
    "    oracle = simon_oracle(s)\n",
    "    \n",
    "    # Apply Hadamard to the first register\n",
    "    simon.h(range(n))\n",
    "    \n",
    "    simon.barrier()\n",
    "    \n",
    "    simon.append(oracle,range(2*n))\n",
    "    \n",
    "    simon.barrier()\n",
    "    \n",
    "    # Apply Hadamard to the first register\n",
    "    simon.h(range(n))\n",
    "    \n",
    "    \n",
    "    # Measure qubits\n",
    "    simon.measure(range(n), range(n))\n",
    "    \n",
    "    return simon"
   ]
  },
  {
   "cell_type": "code",
   "execution_count": 92,
   "id": "b241e475",
   "metadata": {},
   "outputs": [
    {
     "data": {
      "text/html": [
       "<pre style=\"word-wrap: normal;white-space: pre;background: #fff0;line-height: 1.1;font-family: &quot;Courier New&quot;,Courier,monospace\">     ┌───┐ ░ ┌───────────────┐ ░ ┌───┐┌─┐         \n",
       "q_0: ┤ H ├─░─┤0              ├─░─┤ H ├┤M├─────────\n",
       "     ├───┤ ░ │               │ ░ ├───┤└╥┘┌─┐      \n",
       "q_1: ┤ H ├─░─┤1              ├─░─┤ H ├─╫─┤M├──────\n",
       "     ├───┤ ░ │               │ ░ ├───┤ ║ └╥┘┌─┐   \n",
       "q_2: ┤ H ├─░─┤2              ├─░─┤ H ├─╫──╫─┤M├───\n",
       "     ├───┤ ░ │               │ ░ ├───┤ ║  ║ └╥┘┌─┐\n",
       "q_3: ┤ H ├─░─┤3              ├─░─┤ H ├─╫──╫──╫─┤M├\n",
       "     └───┘ ░ │  Simon Oracle │ ░ └───┘ ║  ║  ║ └╥┘\n",
       "q_4: ──────░─┤4              ├─░───────╫──╫──╫──╫─\n",
       "           ░ │               │ ░       ║  ║  ║  ║ \n",
       "q_5: ──────░─┤5              ├─░───────╫──╫──╫──╫─\n",
       "           ░ │               │ ░       ║  ║  ║  ║ \n",
       "q_6: ──────░─┤6              ├─░───────╫──╫──╫──╫─\n",
       "           ░ │               │ ░       ║  ║  ║  ║ \n",
       "q_7: ──────░─┤7              ├─░───────╫──╫──╫──╫─\n",
       "           ░ └───────────────┘ ░       ║  ║  ║  ║ \n",
       "c: 4/══════════════════════════════════╩══╩══╩══╩═\n",
       "                                       0  1  2  3 </pre>"
      ],
      "text/plain": [
       "     ┌───┐ ░ ┌───────────────┐ ░ ┌───┐┌─┐         \n",
       "q_0: ┤ H ├─░─┤0              ├─░─┤ H ├┤M├─────────\n",
       "     ├───┤ ░ │               │ ░ ├───┤└╥┘┌─┐      \n",
       "q_1: ┤ H ├─░─┤1              ├─░─┤ H ├─╫─┤M├──────\n",
       "     ├───┤ ░ │               │ ░ ├───┤ ║ └╥┘┌─┐   \n",
       "q_2: ┤ H ├─░─┤2              ├─░─┤ H ├─╫──╫─┤M├───\n",
       "     ├───┤ ░ │               │ ░ ├───┤ ║  ║ └╥┘┌─┐\n",
       "q_3: ┤ H ├─░─┤3              ├─░─┤ H ├─╫──╫──╫─┤M├\n",
       "     └───┘ ░ │  Simon Oracle │ ░ └───┘ ║  ║  ║ └╥┘\n",
       "q_4: ──────░─┤4              ├─░───────╫──╫──╫──╫─\n",
       "           ░ │               │ ░       ║  ║  ║  ║ \n",
       "q_5: ──────░─┤5              ├─░───────╫──╫──╫──╫─\n",
       "           ░ │               │ ░       ║  ║  ║  ║ \n",
       "q_6: ──────░─┤6              ├─░───────╫──╫──╫──╫─\n",
       "           ░ │               │ ░       ║  ║  ║  ║ \n",
       "q_7: ──────░─┤7              ├─░───────╫──╫──╫──╫─\n",
       "           ░ └───────────────┘ ░       ║  ║  ║  ║ \n",
       "c: 4/══════════════════════════════════╩══╩══╩══╩═\n",
       "                                       0  1  2  3 "
      ]
     },
     "execution_count": 92,
     "metadata": {},
     "output_type": "execute_result"
    }
   ],
   "source": [
    "qc = simon_circuit(\"1010\")\n",
    "qc.draw()"
   ]
  },
  {
   "cell_type": "markdown",
   "id": "77ae86f3",
   "metadata": {},
   "source": [
    "# Quantum Fourier Transform"
   ]
  },
  {
   "cell_type": "markdown",
   "id": "306d7450",
   "metadata": {},
   "source": [
    "### Introduction"
   ]
  },
  {
   "cell_type": "markdown",
   "id": "815a0727",
   "metadata": {},
   "source": [
    "The discrete Fourier transform maps $(x_0,\\dots ,x_{N-1})$ to $(y_0,\\dots ,y_{N-1})$ where $y_k$ given by\n",
    "\n",
    "\n",
    "$$\n",
    "y_k = \\frac{1}{\\sqrt{N}}\\sum_{j=0}^{N-1}x_j\\omega_N^{jk} \\hspace{0.3 in}\\text{where}  \\hspace{0.3 in}\\omega^{jk}_{N} = \\exp\\left(2\\pi i \\frac{jk}{N}\\right)\n",
    "$$\n",
    "\n",
    "The quantum Fourier transform maps $\\left|X \\right>  =\\sum x_j \\left|j\\right>$ to  $\\left|Y \\right> = \\sum y_k \\left|k\\right>$ where $y_k$ given by same rule. In particular the transformation takes the form\n",
    "\n",
    "$$\n",
    "U_{\\text{QFT}}= \\frac{1}{\\sqrt{N}}\\sum_{j=0}^{N-1} \\sum_{k=0}^{N-1}\\omega_N^{jk} \\left|k\\right>\\left<j\\right|\n",
    "$$\n",
    "\n",
    "\n",
    "**Intuition:** The QFT is simply the function that transforms between the computational basis to the Fourier basis\n",
    "\n",
    "\\begin{align*}\n",
    "\\left|\\text{State in Computational Basis}\\right> &\\xrightarrow{\\text{QFT}} \\left|\\text{State in Fourier Basis}\\right> \\\\\n",
    "\\text{QFT}\\left|x\\right> &= \\left|\\tilde{x}\\right>\n",
    "\\end{align*}\n"
   ]
  },
  {
   "cell_type": "markdown",
   "id": "42ee7a07",
   "metadata": {},
   "source": [
    "**Quantum Fourier Transform:** Set $N = 2^n$ and $\\left|x \\right>= \\left|x_1 \\dots x_n\\right> $\n",
    "\n",
    "\\begin{align*}\n",
    "U_{\\text{QFT}} \\left|x \\right> = \\frac{1}{\\sqrt{N}} \\sum_{y=0}^{N-1}\\omega^{xy}_{N} \\left|y\\right> = \\frac{1}{\\sqrt{N}} \\sum_{y=0}^{N-1} \\exp\\left(2\\pi i \\frac{y}{2^n}x \\right) \\left|y\\right> = \\frac{1}{\\sqrt{N}} \\sum_{y=0}^{N-1} \\exp\\left(2\\pi i \\left[\\sum^n_{k=1} \\frac{y_k}{2^k}\\right]x \\right) \\left|y\\right>\n",
    "\\end{align*}\n",
    "\n",
    "\n",
    "<!-- -->\n",
    "\n",
    "where $y = y_1 \\dots y_n$ is rewritten in fractional binary notation\n",
    "\n",
    "$$\n",
    "\\frac{y}{2^n} = \\sum_{k=1}^{n} \\frac{y_k}{2^k}\n",
    "$$\n",
    "\n",
    "the above expression hence takes the form\n",
    "\n",
    "\\begin{align*}\n",
    "U_{\\text{QFT}} \\left|x \\right>  =  \\frac{1}{\\sqrt{N}} \\sum_{y=0}^{N-1}\\prod^{n}_{k=1}  \\exp\\left(2\\pi i\\frac{x y_k}{2^k}\\right) =   \\frac{1}{\\sqrt{N}} \\bigotimes^{n}_{k=1}\\left(\\left|0\\right>+e^{2\\pi i x /2^k}\\left|1\\right>\\right)\n",
    "\\end{align*}"
   ]
  },
  {
   "cell_type": "markdown",
   "id": "436ca256",
   "metadata": {},
   "source": [
    "Therefore, in the **Fourier basis**, we store numbers using different rotations around the Z-axis:\n",
    "\n",
    "<!-- -->\n",
    "\n",
    "![Alt Text](https://qiskit.org/textbook/ch-algorithms/images/fourierbasis-counting.gif)\n",
    "\n",
    "\n",
    "\n",
    "$$\n",
    "\\frac{1}{\\sqrt{N}} \\left(\\left|0\\right>+e^{  \\frac{2\\pi }{2} x}\\left|1\\right>\\right) \\otimes \\left(\\left|0\\right>+e^{  \\frac{2\\pi i }{2^2} x}\\left|1\\right>\\right)\\otimes \\cdots \\otimes \\left(\\left|0\\right>+e^{  \\frac{2\\pi i }{2^{n-1}} x}\\left|1\\right>\\right) \\otimes \\left(\\left|0\\right>+e^{  \\frac{2\\pi i }{2^n} x}\\left|1\\right>\\right)\n",
    "$$\n"
   ]
  },
  {
   "cell_type": "markdown",
   "id": "67497206",
   "metadata": {},
   "source": [
    "### Circuit Implementation of QFT"
   ]
  },
  {
   "cell_type": "code",
   "execution_count": null,
   "id": "e7a69c1e",
   "metadata": {},
   "outputs": [],
   "source": []
  }
 ],
 "metadata": {
  "kernelspec": {
   "display_name": "qiskit",
   "language": "python",
   "name": "qiskit-stable"
  },
  "language_info": {
   "codemirror_mode": {
    "name": "ipython",
    "version": 3
   },
   "file_extension": ".py",
   "mimetype": "text/x-python",
   "name": "python",
   "nbconvert_exporter": "python",
   "pygments_lexer": "ipython3",
   "version": "3.9.13"
  }
 },
 "nbformat": 4,
 "nbformat_minor": 5
}
