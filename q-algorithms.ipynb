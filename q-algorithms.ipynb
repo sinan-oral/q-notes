{
 "cells": [
  {
   "cell_type": "markdown",
   "id": "dfa62738",
   "metadata": {},
   "source": [
    "# Quantum Algorithms "
   ]
  },
  {
   "cell_type": "markdown",
   "id": "552c51d9",
   "metadata": {},
   "source": [
    "## Content\n",
    "\n",
    "* Deutsch-Jozsa Algorithm\n",
    "* Bernstein-Vazirani Algorithm\n",
    "* Simon's Algorithm\n",
    "<br/><br/>\n",
    "* QFT\n",
    "* Phase Estimation\n",
    "* Shor's Algorithm\n",
    "<br/><br/>\n",
    "* Grover's Algorithm\n",
    "* Quantum Counting\n",
    "* Quantum Walk Search Algorithm\n",
    "<br/><br/>\n",
    "* Quantum Teleportation\n",
    "* Superdense Coding\n",
    "* Quantum Key Distribution"
   ]
  },
  {
   "cell_type": "markdown",
   "id": "84291b55",
   "metadata": {},
   "source": [
    "## Deutsch-Jozsa Algorithm"
   ]
  },
  {
   "cell_type": "code",
   "execution_count": null,
   "id": "86a0c053",
   "metadata": {},
   "outputs": [],
   "source": []
  }
 ],
 "metadata": {
  "kernelspec": {
   "display_name": "qiskit",
   "language": "python",
   "name": "qiskit-stable"
  },
  "language_info": {
   "codemirror_mode": {
    "name": "ipython",
    "version": 3
   },
   "file_extension": ".py",
   "mimetype": "text/x-python",
   "name": "python",
   "nbconvert_exporter": "python",
   "pygments_lexer": "ipython3",
   "version": "3.9.13"
  }
 },
 "nbformat": 4,
 "nbformat_minor": 5
}
